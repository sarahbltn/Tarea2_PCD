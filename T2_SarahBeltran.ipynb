{
 "cells": [
  {
   "cell_type": "markdown",
   "id": "9bd755f2",
   "metadata": {},
   "source": [
    "<h1 style=\"color:#db7093; text-align:center;\">\n",
    "Proyecto de ciencia de datos</h1>"
   ]
  },
  {
   "cell_type": "markdown",
   "id": "ecc4cda6",
   "metadata": {},
   "source": [
    "<p style=\"font-size:16px;\">\n",
    "<b>Alumno:</b> Sarah Beltran <br>\n",
    "<b>Profesor:</b> Cristian Camilo Zapata Zuloaga <br>\n",
    "<b>Fecha:</b> 28 de agosto, 2025\n",
    "</p>\n",
    "\n",
    "---"
   ]
  },
  {
   "cell_type": "markdown",
   "id": "27e8f1ff",
   "metadata": {},
   "source": [
    "#### ¿Qué son MLOps? (Machine Learnign Operations)\n",
    "Son un conjunto de prácticas para los flujos de trabajo cuyo objetivo es optimizar el proceso de implementación y mantenimiento de los modelos de aprendizaje automático. Pretende establecer un modelo de evolución continua. Gracias a esto, es posible supervisar, volver a entrenar e implementar permanentemente los modelos, lo cual permite adaptarlos a los datos cambiantes y mantener su máximo rendimiento a lo largo del tiempo.\n",
    "#### Las ventajas de adoptar las prácticas de MLOps\n",
    "Estos modelos detectan patrones en los datos y realizan predicciones a partir de ellos, con el paso del tiempo surge el desajuste y si no se corrige podria afectar.\n",
    "Para evitarlo se tiene que supervisar los modelos. Con esto mejora la calidad y la precision, simplifica el proceso de gestion, previene el desajuste y optimiza la eficiencia para los analistas de datos.\n",
    "##### Beneficios para empresas:\n",
    "- **Capacided de replicación.** Se pueden replicar los experimentos de aprendizaje maquina ya qye MLOps permite supervisar y gestionar cambios en codigo, datos y archivos.\n",
    "- **Integración e implementaciónontinuas (CI/CD).** Permite automatizar las pruebas, la validacion e implementacion. Agiliza los ciclos de desarrollo y distribución, y fomenta una cultura de mejora permanente.\n",
    "- **Mayor colaboración y plazos más cortos.**  Permiten que los miembros del equipo trabajen juntos de manera eficiente. Y las empresas pueden implementar mas modelos en menos tiempo.\n",
    "- **Ahorro de costos.** Al utilizar las prácticas de MLOps para automatizar las tareas manuales que llevan más tiempo, las empresas pueden ahorrar muchos recursos. Además, si se optimiza el proceso de implementación, disminuye el riesgo de que se produzcan errores.\n",
    "- **Mayor control y cumplimiento.** Las prácticas de MLOps permiten que las empresas garanticen el cumplimiento de las medidas de seguridad y las normas relativas a la privacidad de los datos. \n",
    "#### Adopte la automatizacion\n",
    "Al adoptar las practicas se elimina el trabajo manual de supervisar el modelo y garantizar rendimiento.\n",
    "##### Casos practicos:\n",
    "- **Mantenimiento predictivo.** Predicción de los fallos de los equipos y programación preventiva del mantenimiento.\n",
    "- **Salud.** Implementación de modelos para el diagnóstico de enfermedades, la predicción de resultados de los pacientes y el análisis de imágenes médicas. \n",
    "- **Detección de operaciones fraudulentas.** Diseño e implementación de modelos que supervisen las transacciones de forma permanente en busca de actividades sospechosas. \n",
    "#### Diferencia entre MLOps y DevOps\n",
    "DevOps se centra en la automatizacion de tareas operativas rutinarias y en la estandarizacion de los entronos y MLOps es mas experimental y explora formas de gestionar y mantener canales de datos.\n",
    "Algunas tareas de MLOps que no son de DevOps, son: pruebas de validacion de datos, creación de un proceso de varios pasos para volver a entrenar e implementar automáticamente un modelo de aprendizaje automático a medida que recibe nuevos dato & seguimiento de estadísticas de los datos y supervisión del rendimiento.\n",
    "#### Etapas de MLOps\n",
    "- *Paso 1:* recopilacion y preparacion de datos\n",
    "- *Paso 2:* entrenamiento del modelo\n",
    "- *Paso 3:* automatización\n",
    "- *Paso 4:* implementación\n",
    "- *Paso 5:* supervisión"
   ]
  }
 ],
 "metadata": {
  "language_info": {
   "name": "python"
  }
 },
 "nbformat": 4,
 "nbformat_minor": 5
}
